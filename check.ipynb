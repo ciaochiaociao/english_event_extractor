{
 "cells": [
  {
   "cell_type": "markdown",
   "metadata": {},
   "source": [
    "# Check"
   ]
  },
  {
   "cell_type": "code",
   "execution_count": 3,
   "metadata": {},
   "outputs": [],
   "source": [
    "import json\n",
    "\n",
    "with open('outputs/corenlp_jsons/3.json', 'r') as f:\n",
    "    core = json.load(f)\n",
    "\n",
    "with open('outputs/multi_doc/3.md.json', 'r') as f:\n",
    "    md = json.load(f)\n"
   ]
  },
  {
   "cell_type": "markdown",
   "metadata": {},
   "source": [
    "## Trigger Words"
   ]
  },
  {
   "cell_type": "code",
   "execution_count": 16,
   "metadata": {},
   "outputs": [
    {
     "data": {
      "text/plain": [
       "{'char_b': 24, 'char_e': 28, 'text': 'born', 'token_b': 6, 'token_e': 7}"
      ]
     },
     "execution_count": 16,
     "metadata": {},
     "output_type": "execute_result"
    }
   ],
   "source": [
    "md['D3-S0-EVM0']['trigger']\n"
   ]
  },
  {
   "cell_type": "code",
   "execution_count": 39,
   "metadata": {},
   "outputs": [],
   "source": [
    "with open('3', 'r') as f:\n",
    "    text = f.read()\n",
    "\n",
    "text[24:28]"
   ]
  },
  {
   "cell_type": "code",
   "execution_count": 31,
   "metadata": {},
   "outputs": [
    {
     "data": {
      "text/plain": [
       "[{'after': ' ',\n",
       "  'before': ' ',\n",
       "  'characterOffsetBegin': 24,\n",
       "  'characterOffsetEnd': 28,\n",
       "  'index': 7,\n",
       "  'lemma': 'bear',\n",
       "  'ner': 'O',\n",
       "  'originalText': 'born',\n",
       "  'pos': 'VBN',\n",
       "  'word': 'born'}]"
      ]
     },
     "execution_count": 31,
     "metadata": {},
     "output_type": "execute_result"
    }
   ],
   "source": [
    "core['sentences'][0]['tokens'][6:7]"
   ]
  }
 ],
 "metadata": {
  "kernelspec": {
   "display_name": "Python 3",
   "language": "python",
   "name": "python3"
  },
  "language_info": {
   "codemirror_mode": {
    "name": "ipython",
    "version": 3
   },
   "file_extension": ".py",
   "mimetype": "text/x-python",
   "name": "python",
   "nbconvert_exporter": "python",
   "pygments_lexer": "ipython3",
   "version": "3.5.2"
  }
 },
 "nbformat": 4,
 "nbformat_minor": 4
}
